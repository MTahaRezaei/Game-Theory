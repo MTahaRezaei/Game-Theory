{
  "nbformat": 4,
  "nbformat_minor": 0,
  "metadata": {
    "colab": {
      "provenance": [],
      "authorship_tag": "ABX9TyNssrxcVf/G/chzJLEAcp0C",
      "include_colab_link": true
    },
    "kernelspec": {
      "name": "python3",
      "display_name": "Python 3"
    },
    "language_info": {
      "name": "python"
    }
  },
  "cells": [
    {
      "cell_type": "markdown",
      "metadata": {
        "id": "view-in-github",
        "colab_type": "text"
      },
      "source": [
        "<a href=\"https://colab.research.google.com/github/MTahaRezaei/Game-Theory/blob/main/GT_ex3.ipynb\" target=\"_parent\"><img src=\"https://colab.research.google.com/assets/colab-badge.svg\" alt=\"Open In Colab\"/></a>"
      ]
    },
    {
      "cell_type": "markdown",
      "source": [],
      "metadata": {
        "id": "vQksMHN5qTvf"
      }
    },
    {
      "cell_type": "markdown",
      "source": [
        "GT_Ex2"
      ],
      "metadata": {
        "id": "ZBusEVDCqW0F"
      }
    },
    {
      "cell_type": "code",
      "source": [
        "\n",
        "import numpy as np\n",
        "\n",
        "# جدول پرداخت‌ها برای بازیکنان\n",
        "payoffs_player1 = np.array([[-2, 2, 1], [4, 3, -1], [-8, 5, 3]])\n",
        "payoffs_player2 = np.array([[1.75, 1, 1.75], [1.5, 1.5, 1.5], [2, 0.75, 1.75]])\n",
        "\n",
        "# تابع برای یافتن نقطه تعادل نش\n",
        "def find_nash_equilibrium(p1_payoffs, p2_payoffs):\n",
        "    num_strategies_p1 = p1_payoffs.shape[0]\n",
        "    num_strategies_p2 = p2_payoffs.shape[1]\n",
        "\n",
        "    # پیدا کردن بهترین پاسخ‌ها برای هر استراتژی\n",
        "    best_responses_p1 = np.argmax(p1_payoffs, axis=1)\n",
        "    best_responses_p2 = np.argmax(p2_payoffs, axis=0)\n",
        "\n",
        "    nash_equilibria = []\n",
        "\n",
        "    # بررسی تمام ترکیب‌های ممکن برای یافتن نقطه تعادل نش\n",
        "    for i in range(num_strategies_p1):\n",
        "        for j in range(num_strategies_p2):\n",
        "            if best_responses_p1[i] == j and best_responses_p2[j] == i:\n",
        "                nash_equilibria.append((i, j))\n",
        "\n",
        "    return nash_equilibria\n",
        "\n",
        "# تابع برای محاسبه پاداش تضمینی و سیاست ایمن\n",
        "def calculate_security_policy(payoffs):\n",
        "    security_levels = np.min(payoffs, axis=1)\n",
        "    security_policies = np.argmin(payoffs, axis=1)\n",
        "    return security_levels, security_policies\n",
        "\n",
        "# محاسبه نقطه تعادل نش\n",
        "nash_equilibria = find_nash_equilibrium(payoffs_player1, payoffs_player2)\n",
        "print(f'نقاط تعادل نش: {nash_equilibria}')\n",
        "\n",
        "# محاسبه پاداش تضمینی و سیاست ایمن برای بازیکن اول\n",
        "security_level_p1, security_policy_p1 = calculate_security_policy(payoffs_player1)\n",
        "print(f'پاداش تضمینی بازیکن اول: {security_level_p1}')\n",
        "print(f'سیاست ایمن بازیکن اول: {security_policy_p1}')\n",
        "\n",
        "# محاسبه پاداش تضمینی و سیاست ایمن برای بازیکن دوم\n",
        "security_level_p2, security_policy_p2 = calculate_security_policy(payoffs_player2)\n",
        "print(f'پاداش تضمینی بازیکن دوم: {security_level_p2}')\n",
        "print(f'سیاست ایمن بازیکن دوم: {security_policy_p2}')"
      ],
      "metadata": {
        "colab": {
          "base_uri": "https://localhost:8080/"
        },
        "id": "6N6H6H9zqY0A",
        "outputId": "f5e8a3cf-0f4f-4e6b-901f-7693290ed896"
      },
      "execution_count": null,
      "outputs": [
        {
          "output_type": "stream",
          "name": "stdout",
          "text": [
            "نقاط تعادل نش: []\n",
            "پاداش تضمینی بازیکن اول: [-2 -1 -8]\n",
            "سیاست ایمن بازیکن اول: [0 2 0]\n",
            "پاداش تضمینی بازیکن دوم: [1.   1.5  0.75]\n",
            "سیاست ایمن بازیکن دوم: [1 0 1]\n"
          ]
        }
      ]
    },
    {
      "cell_type": "code",
      "source": [],
      "metadata": {
        "id": "Qg5bgt-EqlK7"
      },
      "execution_count": null,
      "outputs": []
    }
  ]
}